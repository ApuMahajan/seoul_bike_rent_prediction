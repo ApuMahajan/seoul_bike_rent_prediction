{
 "cells": [
  {
   "cell_type": "markdown",
   "metadata": {},
   "source": [
    "# SeoulBike Rental Prediction"
   ]
  },
  {
   "cell_type": "markdown",
   "metadata": {},
   "source": [
    "## Importing Required Libraries"
   ]
  },
  {
   "cell_type": "code",
   "execution_count": 1,
   "metadata": {},
   "outputs": [],
   "source": [
    "import pandas as pd\n",
    "import datetime as dt\n",
    "from sklearn.preprocessing import LabelEncoder\n",
    "from sklearn.model_selection import train_test_split, cross_val_score\n",
    "from sklearn.linear_model import LinearRegression\n",
    "from sklearn.metrics import mean_absolute_error, mean_squared_error, r2_score\n",
    "import statsmodels.api as sm\n",
    "from statsmodels.stats.outliers_influence import variance_inflation_factor\n",
    "from sklearn.ensemble import RandomForestRegressor"
   ]
  },
  {
   "cell_type": "markdown",
   "metadata": {},
   "source": [
    "## Reading CSV data file"
   ]
  },
  {
   "cell_type": "code",
   "execution_count": null,
   "metadata": {},
   "outputs": [],
   "source": [
    "dataset = pd.read_csv('data/SeoulBikeData.csv', encoding='unicode_escape')"
   ]
  },
  {
   "cell_type": "markdown",
   "metadata": {},
   "source": [
    "## Encoding Categorical Columns"
   ]
  },
  {
   "cell_type": "code",
   "execution_count": null,
   "metadata": {},
   "outputs": [],
   "source": [
    "label_encoder = LabelEncoder()\n",
    "\n",
    "dataset['Seasons'] = label_encoder.fit_transform(dataset['Seasons'])\n",
    "dataset['Holiday'] = label_encoder.fit_transform(dataset['Holiday'])\n",
    "dataset['Functioning Day'] = label_encoder.fit_transform(dataset['Functioning Day'])"
   ]
  },
  {
   "cell_type": "markdown",
   "metadata": {},
   "source": [
    "## Grouping Data on Per Day Basis"
   ]
  },
  {
   "cell_type": "code",
   "execution_count": null,
   "metadata": {},
   "outputs": [],
   "source": [
    "# Present data in file is on hourly basis. But, we need to predict on daily basis. Therefore, grouping the rows on the basis of date.\n",
    "\n",
    "dataset_per_day = dataset.groupby(\"Date\").agg({'Rented Bike Count': sum, 'Temperature(°C)': 'mean', 'Wind speed (m/s)': 'mean', 'Visibility (10m)': 'mean',\n",
    "                            'Dew point temperature(°C)': 'mean', 'Solar Radiation (MJ/m2)': 'mean', 'Rainfall(mm)': 'mean', 'Snowfall (cm)': 'mean',\n",
    "                            'Seasons': 'mean', 'Holiday': 'mean', 'Functioning Day': 'mean'})"
   ]
  },
  {
   "cell_type": "code",
   "execution_count": null,
   "metadata": {},
   "outputs": [],
   "source": [
    "# Resetting index\n",
    "dataset_per_day = dataset_per_day.reset_index()"
   ]
  },
  {
   "cell_type": "markdown",
   "metadata": {},
   "source": [
    "## Converting Date Column to 'year', 'month' and 'day'"
   ]
  },
  {
   "cell_type": "code",
   "execution_count": null,
   "metadata": {},
   "outputs": [],
   "source": [
    "dataset_per_day['Date'] = pd.to_datetime(dataset_per_day['Date'])   # As 'Date' column is in string format. Coverting it to datetime.\n",
    "dataset_per_day['year']= dataset_per_day['Date'].dt.year            # Extracting year.\n",
    "dataset_per_day['month']= dataset_per_day['Date'].dt.month          # Extracting month number.\n",
    "dataset_per_day['day']= dataset_per_day['Date'].dt.day              # Extracting day of the month.\n",
    "\n",
    "dataset_per_day = dataset_per_day.drop(['Date'], axis = 1)          # Dropping 'Date' column."
   ]
  },
  {
   "cell_type": "markdown",
   "metadata": {},
   "source": [
    "## Checking Multicollinearity using VIF (Variable Inflation Factors)"
   ]
  },
  {
   "cell_type": "code",
   "execution_count": 3,
   "metadata": {},
   "outputs": [],
   "source": [
    "def calc_vif(X):\n",
    "\n",
    "    # Calculating VIF\n",
    "    vif = pd.DataFrame()\n",
    "    vif[\"variables\"] = X.columns\n",
    "    vif[\"VIF\"] = [variance_inflation_factor(X.values, i) for i in range(X.shape[1])]\n",
    "\n",
    "    return(vif)"
   ]
  },
  {
   "cell_type": "code",
   "execution_count": 4,
   "metadata": {},
   "outputs": [
    {
     "data": {
      "text/html": [
       "<div>\n",
       "<style scoped>\n",
       "    .dataframe tbody tr th:only-of-type {\n",
       "        vertical-align: middle;\n",
       "    }\n",
       "\n",
       "    .dataframe tbody tr th {\n",
       "        vertical-align: top;\n",
       "    }\n",
       "\n",
       "    .dataframe thead th {\n",
       "        text-align: right;\n",
       "    }\n",
       "</style>\n",
       "<table border=\"1\" class=\"dataframe\">\n",
       "  <thead>\n",
       "    <tr style=\"text-align: right;\">\n",
       "      <th></th>\n",
       "      <th>variables</th>\n",
       "      <th>VIF</th>\n",
       "    </tr>\n",
       "  </thead>\n",
       "  <tbody>\n",
       "    <tr>\n",
       "      <th>0</th>\n",
       "      <td>Rented Bike Count</td>\n",
       "      <td>21.534565</td>\n",
       "    </tr>\n",
       "    <tr>\n",
       "      <th>1</th>\n",
       "      <td>Temperature(°C)</td>\n",
       "      <td>92.995027</td>\n",
       "    </tr>\n",
       "    <tr>\n",
       "      <th>2</th>\n",
       "      <td>Wind speed (m/s)</td>\n",
       "      <td>12.111444</td>\n",
       "    </tr>\n",
       "    <tr>\n",
       "      <th>3</th>\n",
       "      <td>Visibility (10m)</td>\n",
       "      <td>15.639420</td>\n",
       "    </tr>\n",
       "    <tr>\n",
       "      <th>4</th>\n",
       "      <td>Dew point temperature(°C)</td>\n",
       "      <td>38.985307</td>\n",
       "    </tr>\n",
       "    <tr>\n",
       "      <th>5</th>\n",
       "      <td>Solar Radiation (MJ/m2)</td>\n",
       "      <td>16.004387</td>\n",
       "    </tr>\n",
       "    <tr>\n",
       "      <th>6</th>\n",
       "      <td>Rainfall(mm)</td>\n",
       "      <td>1.809374</td>\n",
       "    </tr>\n",
       "    <tr>\n",
       "      <th>7</th>\n",
       "      <td>Snowfall (cm)</td>\n",
       "      <td>1.196113</td>\n",
       "    </tr>\n",
       "    <tr>\n",
       "      <th>8</th>\n",
       "      <td>Seasons</td>\n",
       "      <td>4.369128</td>\n",
       "    </tr>\n",
       "    <tr>\n",
       "      <th>9</th>\n",
       "      <td>Holiday</td>\n",
       "      <td>20.900324</td>\n",
       "    </tr>\n",
       "    <tr>\n",
       "      <th>10</th>\n",
       "      <td>Functioning Day</td>\n",
       "      <td>58.818861</td>\n",
       "    </tr>\n",
       "    <tr>\n",
       "      <th>11</th>\n",
       "      <td>year</td>\n",
       "      <td>92.539494</td>\n",
       "    </tr>\n",
       "    <tr>\n",
       "      <th>12</th>\n",
       "      <td>month</td>\n",
       "      <td>5.349241</td>\n",
       "    </tr>\n",
       "  </tbody>\n",
       "</table>\n",
       "</div>"
      ],
      "text/plain": [
       "                    variables        VIF\n",
       "0           Rented Bike Count  21.534565\n",
       "1             Temperature(°C)  92.995027\n",
       "2            Wind speed (m/s)  12.111444\n",
       "3            Visibility (10m)  15.639420\n",
       "4   Dew point temperature(°C)  38.985307\n",
       "5     Solar Radiation (MJ/m2)  16.004387\n",
       "6                Rainfall(mm)   1.809374\n",
       "7               Snowfall (cm)   1.196113\n",
       "8                     Seasons   4.369128\n",
       "9                     Holiday  20.900324\n",
       "10            Functioning Day  58.818861\n",
       "11                       year  92.539494\n",
       "12                      month   5.349241"
      ]
     },
     "execution_count": 4,
     "metadata": {},
     "output_type": "execute_result"
    }
   ],
   "source": [
    "X = dataset_per_day.iloc[:,:-1]\n",
    "calc_vif(X)"
   ]
  },
  {
   "cell_type": "code",
   "execution_count": 5,
   "metadata": {},
   "outputs": [],
   "source": [
    "# Dropping 'Temperature(°C)' and 'year' as they have large VIF\n",
    "\n",
    "dataset_per_day = dataset_per_day.drop(['Temperature(°C)', 'year'], axis = 1)"
   ]
  },
  {
   "cell_type": "code",
   "execution_count": 6,
   "metadata": {},
   "outputs": [
    {
     "data": {
      "text/html": [
       "<div>\n",
       "<style scoped>\n",
       "    .dataframe tbody tr th:only-of-type {\n",
       "        vertical-align: middle;\n",
       "    }\n",
       "\n",
       "    .dataframe tbody tr th {\n",
       "        vertical-align: top;\n",
       "    }\n",
       "\n",
       "    .dataframe thead th {\n",
       "        text-align: right;\n",
       "    }\n",
       "</style>\n",
       "<table border=\"1\" class=\"dataframe\">\n",
       "  <thead>\n",
       "    <tr style=\"text-align: right;\">\n",
       "      <th></th>\n",
       "      <th>Rented Bike Count</th>\n",
       "      <th>Wind speed (m/s)</th>\n",
       "      <th>Visibility (10m)</th>\n",
       "      <th>Dew point temperature(°C)</th>\n",
       "      <th>Solar Radiation (MJ/m2)</th>\n",
       "      <th>Rainfall(mm)</th>\n",
       "      <th>Snowfall (cm)</th>\n",
       "      <th>Seasons</th>\n",
       "      <th>Holiday</th>\n",
       "      <th>Functioning Day</th>\n",
       "      <th>month</th>\n",
       "      <th>day</th>\n",
       "    </tr>\n",
       "  </thead>\n",
       "  <tbody>\n",
       "    <tr>\n",
       "      <th>0</th>\n",
       "      <td>4290</td>\n",
       "      <td>1.454167</td>\n",
       "      <td>1894.833333</td>\n",
       "      <td>-13.866667</td>\n",
       "      <td>0.255833</td>\n",
       "      <td>0.000000</td>\n",
       "      <td>0.000000</td>\n",
       "      <td>3</td>\n",
       "      <td>0</td>\n",
       "      <td>1.0</td>\n",
       "      <td>1</td>\n",
       "      <td>1</td>\n",
       "    </tr>\n",
       "    <tr>\n",
       "      <th>1</th>\n",
       "      <td>5377</td>\n",
       "      <td>1.608333</td>\n",
       "      <td>1923.625000</td>\n",
       "      <td>-15.012500</td>\n",
       "      <td>0.337083</td>\n",
       "      <td>0.000000</td>\n",
       "      <td>0.904167</td>\n",
       "      <td>3</td>\n",
       "      <td>1</td>\n",
       "      <td>1.0</td>\n",
       "      <td>1</td>\n",
       "      <td>2</td>\n",
       "    </tr>\n",
       "    <tr>\n",
       "      <th>2</th>\n",
       "      <td>5132</td>\n",
       "      <td>3.554167</td>\n",
       "      <td>1084.000000</td>\n",
       "      <td>-6.387500</td>\n",
       "      <td>0.747500</td>\n",
       "      <td>0.104167</td>\n",
       "      <td>0.000000</td>\n",
       "      <td>1</td>\n",
       "      <td>0</td>\n",
       "      <td>1.0</td>\n",
       "      <td>1</td>\n",
       "      <td>3</td>\n",
       "    </tr>\n",
       "    <tr>\n",
       "      <th>3</th>\n",
       "      <td>17388</td>\n",
       "      <td>1.570833</td>\n",
       "      <td>831.833333</td>\n",
       "      <td>9.370833</td>\n",
       "      <td>0.302083</td>\n",
       "      <td>0.000000</td>\n",
       "      <td>0.000000</td>\n",
       "      <td>1</td>\n",
       "      <td>1</td>\n",
       "      <td>1.0</td>\n",
       "      <td>1</td>\n",
       "      <td>4</td>\n",
       "    </tr>\n",
       "    <tr>\n",
       "      <th>4</th>\n",
       "      <td>26820</td>\n",
       "      <td>1.437500</td>\n",
       "      <td>456.458333</td>\n",
       "      <td>15.120833</td>\n",
       "      <td>0.517500</td>\n",
       "      <td>0.000000</td>\n",
       "      <td>0.000000</td>\n",
       "      <td>1</td>\n",
       "      <td>0</td>\n",
       "      <td>1.0</td>\n",
       "      <td>1</td>\n",
       "      <td>5</td>\n",
       "    </tr>\n",
       "    <tr>\n",
       "      <th>...</th>\n",
       "      <td>...</td>\n",
       "      <td>...</td>\n",
       "      <td>...</td>\n",
       "      <td>...</td>\n",
       "      <td>...</td>\n",
       "      <td>...</td>\n",
       "      <td>...</td>\n",
       "      <td>...</td>\n",
       "      <td>...</td>\n",
       "      <td>...</td>\n",
       "      <td>...</td>\n",
       "      <td>...</td>\n",
       "    </tr>\n",
       "    <tr>\n",
       "      <th>360</th>\n",
       "      <td>31681</td>\n",
       "      <td>1.941667</td>\n",
       "      <td>1246.208333</td>\n",
       "      <td>11.491667</td>\n",
       "      <td>1.122500</td>\n",
       "      <td>0.000000</td>\n",
       "      <td>0.000000</td>\n",
       "      <td>1</td>\n",
       "      <td>1</td>\n",
       "      <td>1.0</td>\n",
       "      <td>5</td>\n",
       "      <td>31</td>\n",
       "    </tr>\n",
       "    <tr>\n",
       "      <th>361</th>\n",
       "      <td>22897</td>\n",
       "      <td>1.383333</td>\n",
       "      <td>1993.791667</td>\n",
       "      <td>20.216667</td>\n",
       "      <td>1.020833</td>\n",
       "      <td>0.000000</td>\n",
       "      <td>0.000000</td>\n",
       "      <td>2</td>\n",
       "      <td>1</td>\n",
       "      <td>1.0</td>\n",
       "      <td>7</td>\n",
       "      <td>31</td>\n",
       "    </tr>\n",
       "    <tr>\n",
       "      <th>362</th>\n",
       "      <td>27817</td>\n",
       "      <td>1.600000</td>\n",
       "      <td>1609.000000</td>\n",
       "      <td>18.491667</td>\n",
       "      <td>0.923750</td>\n",
       "      <td>0.004167</td>\n",
       "      <td>0.000000</td>\n",
       "      <td>2</td>\n",
       "      <td>1</td>\n",
       "      <td>1.0</td>\n",
       "      <td>8</td>\n",
       "      <td>31</td>\n",
       "    </tr>\n",
       "    <tr>\n",
       "      <th>363</th>\n",
       "      <td>21545</td>\n",
       "      <td>1.666667</td>\n",
       "      <td>1960.916667</td>\n",
       "      <td>-1.408333</td>\n",
       "      <td>0.604583</td>\n",
       "      <td>0.000000</td>\n",
       "      <td>0.000000</td>\n",
       "      <td>0</td>\n",
       "      <td>1</td>\n",
       "      <td>1.0</td>\n",
       "      <td>10</td>\n",
       "      <td>31</td>\n",
       "    </tr>\n",
       "    <tr>\n",
       "      <th>364</th>\n",
       "      <td>3423</td>\n",
       "      <td>2.320833</td>\n",
       "      <td>1120.291667</td>\n",
       "      <td>-8.329167</td>\n",
       "      <td>0.276250</td>\n",
       "      <td>0.050000</td>\n",
       "      <td>0.595833</td>\n",
       "      <td>3</td>\n",
       "      <td>0</td>\n",
       "      <td>1.0</td>\n",
       "      <td>12</td>\n",
       "      <td>31</td>\n",
       "    </tr>\n",
       "  </tbody>\n",
       "</table>\n",
       "<p>365 rows × 12 columns</p>\n",
       "</div>"
      ],
      "text/plain": [
       "     Rented Bike Count  Wind speed (m/s)  Visibility (10m)  \\\n",
       "0                 4290          1.454167       1894.833333   \n",
       "1                 5377          1.608333       1923.625000   \n",
       "2                 5132          3.554167       1084.000000   \n",
       "3                17388          1.570833        831.833333   \n",
       "4                26820          1.437500        456.458333   \n",
       "..                 ...               ...               ...   \n",
       "360              31681          1.941667       1246.208333   \n",
       "361              22897          1.383333       1993.791667   \n",
       "362              27817          1.600000       1609.000000   \n",
       "363              21545          1.666667       1960.916667   \n",
       "364               3423          2.320833       1120.291667   \n",
       "\n",
       "     Dew point temperature(°C)  Solar Radiation (MJ/m2)  Rainfall(mm)  \\\n",
       "0                   -13.866667                 0.255833      0.000000   \n",
       "1                   -15.012500                 0.337083      0.000000   \n",
       "2                    -6.387500                 0.747500      0.104167   \n",
       "3                     9.370833                 0.302083      0.000000   \n",
       "4                    15.120833                 0.517500      0.000000   \n",
       "..                         ...                      ...           ...   \n",
       "360                  11.491667                 1.122500      0.000000   \n",
       "361                  20.216667                 1.020833      0.000000   \n",
       "362                  18.491667                 0.923750      0.004167   \n",
       "363                  -1.408333                 0.604583      0.000000   \n",
       "364                  -8.329167                 0.276250      0.050000   \n",
       "\n",
       "     Snowfall (cm)  Seasons  Holiday  Functioning Day  month  day  \n",
       "0         0.000000        3        0              1.0      1    1  \n",
       "1         0.904167        3        1              1.0      1    2  \n",
       "2         0.000000        1        0              1.0      1    3  \n",
       "3         0.000000        1        1              1.0      1    4  \n",
       "4         0.000000        1        0              1.0      1    5  \n",
       "..             ...      ...      ...              ...    ...  ...  \n",
       "360       0.000000        1        1              1.0      5   31  \n",
       "361       0.000000        2        1              1.0      7   31  \n",
       "362       0.000000        2        1              1.0      8   31  \n",
       "363       0.000000        0        1              1.0     10   31  \n",
       "364       0.595833        3        0              1.0     12   31  \n",
       "\n",
       "[365 rows x 12 columns]"
      ]
     },
     "execution_count": 6,
     "metadata": {},
     "output_type": "execute_result"
    }
   ],
   "source": [
    "dataset_per_day"
   ]
  },
  {
   "cell_type": "markdown",
   "metadata": {},
   "source": [
    "## Defining Predictor and Target Variable"
   ]
  },
  {
   "cell_type": "code",
   "execution_count": 7,
   "metadata": {},
   "outputs": [],
   "source": [
    "target = \"Rented Bike Count\"\n",
    "\n",
    "X = dataset_per_day.drop(columns=target)\n",
    "y = dataset_per_day[target]"
   ]
  },
  {
   "cell_type": "markdown",
   "metadata": {},
   "source": [
    "## Splitting the Dataset in Train and Test"
   ]
  },
  {
   "cell_type": "code",
   "execution_count": null,
   "metadata": {},
   "outputs": [],
   "source": [
    "X_train, X_test, y_train, y_test = train_test_split(X, y, test_size = 0.2, random_state=42)"
   ]
  },
  {
   "cell_type": "markdown",
   "metadata": {},
   "source": [
    "## Applying Ordinary Least Squares(OLS) Method"
   ]
  },
  {
   "cell_type": "code",
   "execution_count": 8,
   "metadata": {},
   "outputs": [
    {
     "name": "stdout",
     "output_type": "stream",
     "text": [
      "                            OLS Regression Results                            \n",
      "==============================================================================\n",
      "Dep. Variable:      Rented Bike Count   R-squared:                       0.810\n",
      "Model:                            OLS   Adj. R-squared:                  0.802\n",
      "Method:                 Least Squares   F-statistic:                     108.2\n",
      "Date:                Tue, 16 Nov 2021   Prob (F-statistic):           5.47e-94\n",
      "Time:                        20:15:09   Log-Likelihood:                -2865.5\n",
      "No. Observations:                 292   AIC:                             5755.\n",
      "Df Residuals:                     280   BIC:                             5799.\n",
      "Df Model:                          11                                         \n",
      "Covariance Type:            nonrobust                                         \n",
      "=============================================================================================\n",
      "                                coef    std err          t      P>|t|      [0.025      0.975]\n",
      "---------------------------------------------------------------------------------------------\n",
      "const                     -1.516e+04   2349.000     -6.453      0.000   -1.98e+04   -1.05e+04\n",
      "Wind speed (m/s)          -1066.7544    491.011     -2.173      0.031   -2033.295    -100.214\n",
      "Visibility (10m)              1.6588      0.608      2.730      0.007       0.463       2.855\n",
      "Dew point temperature(°C)   343.8698     27.999     12.282      0.000     288.755     398.985\n",
      "Solar Radiation (MJ/m2)    1.255e+04   1184.132     10.600      0.000    1.02e+04    1.49e+04\n",
      "Rainfall(mm)              -4069.7232    749.277     -5.432      0.000   -5544.654   -2594.792\n",
      "Snowfall (cm)             -1236.5777    746.168     -1.657      0.099   -2705.389     232.234\n",
      "Seasons                   -1849.2058    274.698     -6.732      0.000   -2389.942   -1308.470\n",
      "Holiday                    3462.5805   1204.946      2.874      0.004    1090.677    5834.484\n",
      "Functioning Day            2.161e+04   1495.608     14.450      0.000    1.87e+04    2.46e+04\n",
      "month                       192.6446     82.800      2.327      0.021      29.654     355.635\n",
      "day                          56.8045     31.565      1.800      0.073      -5.331     118.940\n",
      "==============================================================================\n",
      "Omnibus:                        4.354   Durbin-Watson:                   1.929\n",
      "Prob(Omnibus):                  0.113   Jarque-Bera (JB):                4.168\n",
      "Skew:                           0.223   Prob(JB):                        0.124\n",
      "Kurtosis:                       3.380   Cond. No.                     1.50e+04\n",
      "==============================================================================\n",
      "\n",
      "Warnings:\n",
      "[1] Standard Errors assume that the covariance matrix of the errors is correctly specified.\n",
      "[2] The condition number is large, 1.5e+04. This might indicate that there are\n",
      "strong multicollinearity or other numerical problems.\n"
     ]
    }
   ],
   "source": [
    "## Applying OLS method from statsmodel.api to get matrices like 'R-squared', 'Adj. R-squared', 'p-value' etc.\n",
    "\n",
    "X_train_sm = X_train\n",
    "X_train_sm = sm.add_constant(X_train_sm)\n",
    "lm = sm.OLS(y_train, X_train_sm).fit()\n",
    "print(lm.summary())"
   ]
  },
  {
   "cell_type": "markdown",
   "metadata": {},
   "source": [
    "## Defining Linear Regression and Fitting the Data"
   ]
  },
  {
   "cell_type": "code",
   "execution_count": 9,
   "metadata": {},
   "outputs": [
    {
     "data": {
      "text/plain": [
       "LinearRegression(copy_X=True, fit_intercept=True, n_jobs=None, normalize=False)"
      ]
     },
     "execution_count": 9,
     "metadata": {},
     "output_type": "execute_result"
    }
   ],
   "source": [
    "lr_model = LinearRegression()\n",
    "lr_model.fit(X_train, y_train)"
   ]
  },
  {
   "cell_type": "markdown",
   "metadata": {},
   "source": [
    "## Predictions(Linear Regression)"
   ]
  },
  {
   "cell_type": "code",
   "execution_count": 10,
   "metadata": {},
   "outputs": [
    {
     "name": "stdout",
     "output_type": "stream",
     "text": [
      "Linear Regression - Training Metrics\n",
      "MAE: 2979.193633146087\n",
      "MSE: 14410051.710787022\n",
      "R2: 0.872979925496069\n"
     ]
    }
   ],
   "source": [
    "y_pred_test_lr = lr_model.predict(X_test)\n",
    "print('Linear Regression - Training Metrics')\n",
    "print('MAE:', mean_absolute_error(y_test, y_pred_test_lr))\n",
    "print('MSE:', mean_squared_error(y_test, y_pred_test_lr))\n",
    "print('R2:', r2_score(y_test, y_pred_test_lr))"
   ]
  },
  {
   "cell_type": "markdown",
   "metadata": {},
   "source": [
    "## Defining Random Forest Regressor and Fitting the Data"
   ]
  },
  {
   "cell_type": "code",
   "execution_count": 13,
   "metadata": {},
   "outputs": [
    {
     "data": {
      "text/plain": [
       "RandomForestRegressor(bootstrap=True, ccp_alpha=0.0, criterion='mse',\n",
       "                      max_depth=None, max_features='auto', max_leaf_nodes=None,\n",
       "                      max_samples=None, min_impurity_decrease=0.0,\n",
       "                      min_impurity_split=None, min_samples_leaf=1,\n",
       "                      min_samples_split=2, min_weight_fraction_leaf=0.0,\n",
       "                      n_estimators=50, n_jobs=None, oob_score=False,\n",
       "                      random_state=42, verbose=0, warm_start=False)"
      ]
     },
     "execution_count": 13,
     "metadata": {},
     "output_type": "execute_result"
    }
   ],
   "source": [
    "rf_regressor = RandomForestRegressor(n_estimators = 50, random_state = 42)\n",
    "rf_regressor.fit(X_train, y_train)"
   ]
  },
  {
   "cell_type": "markdown",
   "metadata": {},
   "source": [
    "## Predictions(Random Forest Regressor)"
   ]
  },
  {
   "cell_type": "code",
   "execution_count": 14,
   "metadata": {},
   "outputs": [
    {
     "name": "stdout",
     "output_type": "stream",
     "text": [
      "Random Forest - Training Metrics\n",
      "MAE: 2691.80794520548\n",
      "MSE: 12118023.55552329\n",
      "R2: 0.8931834329428029\n"
     ]
    }
   ],
   "source": [
    "y_pred_test_rf = rf_regressor.predict(X_test)\n",
    "print('Random Forest - Training Metrics')\n",
    "print('MAE:', mean_absolute_error(y_test, y_pred_test_rf))\n",
    "print('MSE:', mean_squared_error(y_test, y_pred_test_rf))\n",
    "print('R2:', r2_score(y_test, y_pred_test_rf))"
   ]
  }
 ],
 "metadata": {
  "interpreter": {
   "hash": "12d3c0ea0d7dfb34c0714241b0fa2a1af9e9fc2d3c95d1bb5e493aba88907003"
  },
  "kernelspec": {
   "display_name": "Python 3.7.6 64-bit ('base': conda)",
   "name": "python3"
  },
  "language_info": {
   "codemirror_mode": {
    "name": "ipython",
    "version": 3
   },
   "file_extension": ".py",
   "mimetype": "text/x-python",
   "name": "python",
   "nbconvert_exporter": "python",
   "pygments_lexer": "ipython3",
   "version": "3.7.6"
  }
 },
 "nbformat": 4,
 "nbformat_minor": 4
}
